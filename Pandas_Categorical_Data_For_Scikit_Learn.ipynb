{
  "nbformat": 4,
  "nbformat_minor": 0,
  "metadata": {
    "colab": {
      "name": "Pandas Categorical Data For Scikit-Learn.ipynb",
      "provenance": []
    },
    "kernelspec": {
      "name": "python3",
      "display_name": "Python 3"
    },
    "language_info": {
      "name": "python"
    }
  },
  "cells": [
    {
      "cell_type": "code",
      "metadata": {
        "id": "HkXZ9A1DV5gR"
      },
      "source": [
        "import pandas as pd\n",
        "from sklearn import preprocessing"
      ],
      "execution_count": 16,
      "outputs": []
    },
    {
      "cell_type": "code",
      "metadata": {
        "id": "l3E1_Sr-aL9F"
      },
      "source": [
        "raw_data = {'patient': [1, 1, 1, 2, 2],\n",
        "        'obs': [1, 2, 3, 1, 2],\n",
        "        'treatment': [0, 1, 0, 1, 0],\n",
        "        'score': ['strong', 'weak', 'normal', 'weak', 'strong']}\n",
        "df = pd.DataFrame(raw_data, columns = ['patient', 'obs', 'treatment', 'score'])"
      ],
      "execution_count": 17,
      "outputs": []
    },
    {
      "cell_type": "code",
      "metadata": {
        "id": "OLBN8RC4aT6r"
      },
      "source": [
        "le = preprocessing.LabelEncoder()"
      ],
      "execution_count": 18,
      "outputs": []
    },
    {
      "cell_type": "code",
      "metadata": {
        "colab": {
          "base_uri": "https://localhost:8080/"
        },
        "id": "sB6u_25EaZFk",
        "outputId": "4d8beb19-37f0-4c9a-f966-cd7722cacf3c"
      },
      "source": [
        "le.fit(df['score'])"
      ],
      "execution_count": 13,
      "outputs": [
        {
          "output_type": "execute_result",
          "data": {
            "text/plain": [
              "LabelEncoder()"
            ]
          },
          "metadata": {
            "tags": []
          },
          "execution_count": 13
        }
      ]
    },
    {
      "cell_type": "code",
      "metadata": {
        "colab": {
          "base_uri": "https://localhost:8080/"
        },
        "id": "pIm6_at7aaI9",
        "outputId": "4dcf65c7-09d6-41b7-ee6d-ab6daa2ee64f"
      },
      "source": [
        "list(le.classes_)"
      ],
      "execution_count": 14,
      "outputs": [
        {
          "output_type": "execute_result",
          "data": {
            "text/plain": [
              "['normal', 'strong', 'weak']"
            ]
          },
          "metadata": {
            "tags": []
          },
          "execution_count": 14
        }
      ]
    },
    {
      "cell_type": "code",
      "metadata": {
        "colab": {
          "base_uri": "https://localhost:8080/"
        },
        "id": "xTqSY8LUadFI",
        "outputId": "fc1a71bf-2411-4e5c-b824-6fe31df08cf3"
      },
      "source": [
        "le.transform(df['score']) "
      ],
      "execution_count": 11,
      "outputs": [
        {
          "output_type": "execute_result",
          "data": {
            "text/plain": [
              "array([1, 2, 0, 2, 1])"
            ]
          },
          "metadata": {
            "tags": []
          },
          "execution_count": 11
        }
      ]
    },
    {
      "cell_type": "code",
      "metadata": {
        "colab": {
          "base_uri": "https://localhost:8080/"
        },
        "id": "hhA_PbKkalbn",
        "outputId": "23ad09c2-35b5-4a20-a11b-d35b38a47587"
      },
      "source": [
        "list(le.inverse_transform([2, 2, 1]))"
      ],
      "execution_count": 12,
      "outputs": [
        {
          "output_type": "execute_result",
          "data": {
            "text/plain": [
              "['weak', 'weak', 'strong']"
            ]
          },
          "metadata": {
            "tags": []
          },
          "execution_count": 12
        }
      ]
    }
  ]
}