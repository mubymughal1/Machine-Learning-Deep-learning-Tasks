{
  "nbformat": 4,
  "nbformat_minor": 0,
  "metadata": {
    "colab": {
      "name": "Ridge Regression using SKLearn on Housing Data sets.ipynb",
      "provenance": [],
      "authorship_tag": "ABX9TyPXbUkkyOFH+ZW6lhy5oKHV",
      "include_colab_link": true
    },
    "kernelspec": {
      "name": "python3",
      "display_name": "Python 3"
    },
    "language_info": {
      "name": "python"
    }
  },
  "cells": [
    {
      "cell_type": "markdown",
      "metadata": {
        "id": "view-in-github",
        "colab_type": "text"
      },
      "source": [
        "<a href=\"https://colab.research.google.com/github/mubymughal1/preprocessing_structured_data/blob/main/Ridge_Regression_using_SKLearn_on_Housing_Data_sets.ipynb\" target=\"_parent\"><img src=\"https://colab.research.google.com/assets/colab-badge.svg\" alt=\"Open In Colab\"/></a>"
      ]
    },
    {
      "cell_type": "code",
      "metadata": {
        "colab": {
          "base_uri": "https://localhost:8080/"
        },
        "id": "vn6Uqwd8oC-h",
        "outputId": "51480287-c88d-4af5-86d3-bdaada86ba0d"
      },
      "source": [
        "# load and summarize the housing dataset\n",
        "from pandas import read_csv\n",
        "from matplotlib import pyplot\n",
        "# load dataset\n",
        "url = 'https://raw.githubusercontent.com/jbrownlee/Datasets/master/housing.csv'\n",
        "dataframe = read_csv(url, header=None)\n",
        "# summarize shape\n",
        "print(dataframe.shape)\n",
        "# summarize first few lines\n",
        "print(dataframe.head())"
      ],
      "execution_count": 1,
      "outputs": [
        {
          "output_type": "stream",
          "text": [
            "(506, 14)\n",
            "        0     1     2   3      4      5   ...  8      9     10      11    12    13\n",
            "0  0.00632  18.0  2.31   0  0.538  6.575  ...   1  296.0  15.3  396.90  4.98  24.0\n",
            "1  0.02731   0.0  7.07   0  0.469  6.421  ...   2  242.0  17.8  396.90  9.14  21.6\n",
            "2  0.02729   0.0  7.07   0  0.469  7.185  ...   2  242.0  17.8  392.83  4.03  34.7\n",
            "3  0.03237   0.0  2.18   0  0.458  6.998  ...   3  222.0  18.7  394.63  2.94  33.4\n",
            "4  0.06905   0.0  2.18   0  0.458  7.147  ...   3  222.0  18.7  396.90  5.33  36.2\n",
            "\n",
            "[5 rows x 14 columns]\n"
          ],
          "name": "stdout"
        }
      ]
    },
    {
      "cell_type": "code",
      "metadata": {
        "id": "o5NzAhWHo6b_"
      },
      "source": [
        "from sklearn.linear_model import Ridge\n",
        "# define model\n",
        "model = Ridge(alpha=1.0)"
      ],
      "execution_count": 3,
      "outputs": []
    },
    {
      "cell_type": "code",
      "metadata": {
        "colab": {
          "base_uri": "https://localhost:8080/"
        },
        "id": "BTMbSUw7p3yK",
        "outputId": "aefaba70-7598-49ec-fe9a-8b592555bf45"
      },
      "source": [
        "# evaluate an ridge regression model on the dataset\n",
        "from numpy import mean\n",
        "from numpy import std\n",
        "from numpy import absolute\n",
        "from pandas import read_csv\n",
        "from sklearn.model_selection import cross_val_score\n",
        "from sklearn.model_selection import RepeatedKFold\n",
        "from sklearn.linear_model import Ridge\n",
        "# load the dataset\n",
        "url = 'https://raw.githubusercontent.com/jbrownlee/Datasets/master/housing.csv'\n",
        "dataframe = read_csv(url, header=None)\n",
        "data = dataframe.values\n",
        "X, y = data[:, :-1], data[:, -1]\n",
        "# define model\n",
        "model = Ridge(alpha=1.0)\n",
        "# define model evaluation method\n",
        "cv = RepeatedKFold(n_splits=10, n_repeats=3, random_state=1)\n",
        "# evaluate model\n",
        "scores = cross_val_score(model, X, y, scoring='neg_mean_absolute_error', cv=cv, n_jobs=-1)\n",
        "# force scores to be positive\n",
        "scores = absolute(scores)\n",
        "print('Mean MAE: %.3f (%.3f)' % (mean(scores), std(scores)))"
      ],
      "execution_count": 4,
      "outputs": [
        {
          "output_type": "stream",
          "text": [
            "Mean MAE: 3.382 (0.519)\n"
          ],
          "name": "stdout"
        }
      ]
    },
    {
      "cell_type": "code",
      "metadata": {
        "colab": {
          "base_uri": "https://localhost:8080/"
        },
        "id": "Un4uUGoxquUr",
        "outputId": "c3eaf5bc-0735-479c-db05-1a0b7a1a4402"
      },
      "source": [
        "# make a prediction with a ridge regression model on the dataset\n",
        "from pandas import read_csv\n",
        "from sklearn.linear_model import Ridge\n",
        "# load the dataset\n",
        "url = 'https://raw.githubusercontent.com/jbrownlee/Datasets/master/housing.csv'\n",
        "dataframe = read_csv(url, header=None)\n",
        "data = dataframe.values\n",
        "X, y = data[:, :-1], data[:, -1]\n",
        "# define model\n",
        "model = Ridge(alpha=1.0)\n",
        "# fit model\n",
        "model.fit(X, y)\n",
        "# define new data\n",
        "row = [0.00632,18.00,2.310,0,0.5380,6.5750,65.20,4.0900,1,296.0,15.30,396.90,4.98]\n",
        "# make a prediction\n",
        "yhat = model.predict([row])\n",
        "# summarize prediction\n",
        "print('Predicted: %.3f' % yhat)"
      ],
      "execution_count": 6,
      "outputs": [
        {
          "output_type": "stream",
          "text": [
            "Predicted: 30.253\n"
          ],
          "name": "stdout"
        }
      ]
    },
    {
      "cell_type": "markdown",
      "metadata": {
        "id": "6bi2bNA8rx2W"
      },
      "source": [
        "Tuning Ridge **Hyperparameters**\n",
        "\n",
        "The scikit-learn library also provides a built-in version of the algorithm that automatically finds good hyperparameters via the RidgeCV class.\n",
        "\n",
        "To use this class, it is fit on the training dataset and used to make a prediction. During the training process, it automatically tunes the hyperparameter values.\n",
        "\n",
        "By default, the model will only test the alpha values (0.1, 1.0, 10.0). We can change this to a grid of values between 0 and 1 with a separation of 0.01 as we did on the previous example by setting the “alphas” argument.\n",
        "\n",
        "The example below demonstrates this"
      ]
    },
    {
      "cell_type": "code",
      "metadata": {
        "colab": {
          "base_uri": "https://localhost:8080/"
        },
        "id": "HpC5rIqlr_VE",
        "outputId": "6ab387c8-0dfb-4e06-e68e-1939570bf5ed"
      },
      "source": [
        "# use automatically configured the ridge regression algorithm\n",
        "from numpy import arange\n",
        "from pandas import read_csv\n",
        "from sklearn.linear_model import RidgeCV\n",
        "from sklearn.model_selection import RepeatedKFold\n",
        "# load the dataset\n",
        "url = 'https://raw.githubusercontent.com/jbrownlee/Datasets/master/housing.csv'\n",
        "dataframe = read_csv(url, header=None)\n",
        "data = dataframe.values\n",
        "X, y = data[:, :-1], data[:, -1]\n",
        "# define model evaluation method\n",
        "cv = RepeatedKFold(n_splits=10, n_repeats=3, random_state=1)\n",
        "# define model\n",
        "model = RidgeCV(alphas=arange(0, 1, 0.01), cv=cv, scoring='neg_mean_absolute_error')\n",
        "# fit model\n",
        "model.fit(X, y)\n",
        "# summarize chosen configuration\n",
        "print('alpha: %f' % model.alpha_)"
      ],
      "execution_count": 8,
      "outputs": [
        {
          "output_type": "stream",
          "text": [
            "alpha: 0.510000\n"
          ],
          "name": "stdout"
        }
      ]
    }
  ]
}